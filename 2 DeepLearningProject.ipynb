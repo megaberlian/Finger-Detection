{
 "cells": [
  {
   "cell_type": "markdown",
   "metadata": {},
   "source": [
    "# Finger Detection\n",
    "Memprediksi jumlah jari dan juga membedakan antara tangan kiri dan tangan kanan"
   ]
  },
  {
   "cell_type": "code",
   "execution_count": 1,
   "metadata": {
    "colab": {
     "base_uri": "https://localhost:8080/"
    },
    "id": "oUQNfhkbfBjI",
    "outputId": "a5b32ec2-101b-4fb1-9130-5173c5039d36"
   },
   "outputs": [
    {
     "name": "stdout",
     "output_type": "stream",
     "text": [
      "Requirement already satisfied: Kaggle in c:\\users\\user\\anaconda3\\lib\\site-packages (1.5.12)\n",
      "Requirement already satisfied: tqdm in c:\\users\\user\\anaconda3\\lib\\site-packages (from Kaggle) (4.59.0)\n",
      "Requirement already satisfied: python-dateutil in c:\\users\\user\\anaconda3\\lib\\site-packages (from Kaggle) (2.8.1)\n",
      "Requirement already satisfied: urllib3 in c:\\users\\user\\anaconda3\\lib\\site-packages (from Kaggle) (1.26.4)\n",
      "Requirement already satisfied: six>=1.10 in c:\\users\\user\\anaconda3\\lib\\site-packages (from Kaggle) (1.15.0)\n",
      "Requirement already satisfied: requests in c:\\users\\user\\anaconda3\\lib\\site-packages (from Kaggle) (2.25.1)\n",
      "Requirement already satisfied: certifi in c:\\users\\user\\anaconda3\\lib\\site-packages (from Kaggle) (2020.12.5)\n",
      "Requirement already satisfied: python-slugify in c:\\users\\user\\anaconda3\\lib\\site-packages (from Kaggle) (6.1.2)\n",
      "Requirement already satisfied: text-unidecode>=1.3 in c:\\users\\user\\anaconda3\\lib\\site-packages (from python-slugify->Kaggle) (1.3)\n",
      "Requirement already satisfied: idna<3,>=2.5 in c:\\users\\user\\anaconda3\\lib\\site-packages (from requests->Kaggle) (2.10)\n",
      "Requirement already satisfied: chardet<5,>=3.0.2 in c:\\users\\user\\anaconda3\\lib\\site-packages (from requests->Kaggle) (4.0.0)\n"
     ]
    }
   ],
   "source": [
    "!pip install Kaggle"
   ]
  },
  {
   "cell_type": "code",
   "execution_count": 2,
   "metadata": {
    "colab": {
     "base_uri": "https://localhost:8080/"
    },
    "id": "vHqujpN9fJuN",
    "outputId": "a92284a1-090d-49de-df89-8b8fff7ab3bf"
   },
   "outputs": [
    {
     "name": "stderr",
     "output_type": "stream",
     "text": [
      "<ipython-input-2-aa09cc2c64bf>:15: TqdmDeprecationWarning: This function will be removed in tqdm==5.0.0\n",
      "Please use `tqdm.notebook.*` instead of `tqdm._tqdm_notebook.*`\n",
      "  from tqdm._tqdm_notebook import tqdm_notebook as tqdm\n"
     ]
    }
   ],
   "source": [
    "# import library\n",
    "import tensorflow as tf\n",
    "from zipfile import ZipFile\n",
    "import os,glob\n",
    "from skimage.io import imread\n",
    "from skimage.transform import resize \n",
    "import matplotlib.pyplot as plt\n",
    "import random\n",
    "import warnings\n",
    "from scipy import ndarray\n",
    "import skimage as sk\n",
    "from skimage import transform\n",
    "from skimage import util\n",
    "from skimage import io\n",
    "from sklearn import metrics\n",
    "from tqdm._tqdm_notebook import tqdm_notebook as tqdm\n",
    "import numpy as np\n",
    "from keras.models import Sequential\n",
    "from keras.layers import Convolution2D, Dropout, Dense\n",
    "from keras.layers import BatchNormalization\n",
    "from keras.layers import MaxPooling2D\n",
    "from keras.layers import Flatten\n",
    "# from keras.optimizers import adam\n",
    "from tensorflow.keras.optimizers import Adam\n",
    "# from keras.optimizers import sgd\n",
    "from tensorflow.keras.optimizers import SGD\n",
    "from keras.layers import LeakyReLU\n",
    "from numpy import asarray"
   ]
  },
  {
   "cell_type": "code",
   "execution_count": 5,
   "metadata": {
    "colab": {
     "base_uri": "https://localhost:8080/"
    },
    "id": "w7CHchMdOkWA",
    "outputId": "21c8d901-04ae-4f17-a9e9-8b8b2677d16b"
   },
   "outputs": [
    {
     "name": "stderr",
     "output_type": "stream",
     "text": [
      "The syntax of the command is incorrect.\n",
      "'cp' is not recognized as an internal or external command,\n",
      "operable program or batch file.\n",
      "'chmod' is not recognized as an internal or external command,\n",
      "operable program or batch file.\n"
     ]
    }
   ],
   "source": [
    "!mkdir -p ~/.kaggle\n",
    "!cp kaggle.json ~/.kaggle/\n",
    "\n",
    "!chmod 600 ~/.kaggle/kaggle.json"
   ]
  },
  {
   "cell_type": "code",
   "execution_count": 6,
   "metadata": {
    "colab": {
     "base_uri": "https://localhost:8080/"
    },
    "id": "iG8NAoKGOtYb",
    "outputId": "5848666a-c971-41f8-ac32-04da456a94dc"
   },
   "outputs": [
    {
     "name": "stderr",
     "output_type": "stream",
     "text": [
      "Traceback (most recent call last):\n",
      "  File \"c:\\users\\user\\anaconda3\\lib\\runpy.py\", line 194, in _run_module_as_main\n",
      "    return _run_code(code, main_globals, None,\n",
      "  File \"c:\\users\\user\\anaconda3\\lib\\runpy.py\", line 87, in _run_code\n",
      "    exec(code, run_globals)\n",
      "  File \"C:\\Users\\user\\anaconda3\\Scripts\\kaggle.exe\\__main__.py\", line 4, in <module>\n",
      "  File \"c:\\users\\user\\anaconda3\\lib\\site-packages\\kaggle\\__init__.py\", line 23, in <module>\n",
      "    api.authenticate()\n",
      "  File \"c:\\users\\user\\anaconda3\\lib\\site-packages\\kaggle\\api\\kaggle_api_extended.py\", line 164, in authenticate\n",
      "    raise IOError('Could not find {}. Make sure it\\'s located in'\n",
      "OSError: Could not find kaggle.json. Make sure it's located in C:\\Users\\user\\.kaggle. Or use the environment method.\n"
     ]
    }
   ],
   "source": [
    "#unduh data dengan API\n",
    "!kaggle datasets download -d koryakinp/fingers"
   ]
  },
  {
   "cell_type": "code",
   "execution_count": 7,
   "metadata": {
    "colab": {
     "base_uri": "https://localhost:8080/"
    },
    "id": "5RLU715ego0q",
    "outputId": "3bbbf516-dca7-4177-bc8e-645075a539d3"
   },
   "outputs": [
    {
     "name": "stdout",
     "output_type": "stream",
     "text": [
      "Done\n"
     ]
    }
   ],
   "source": [
    "#karena yang diunduh berupa zip, maka kita perlu meng unzip data nya\n",
    "from zipfile import ZipFile\n",
    "file_name = \"fingers.zip\"\n",
    "\n",
    "\n",
    "with ZipFile(file_name,'r') as zip:\n",
    "  zip.extractall()\n",
    "  print('Done')"
   ]
  },
  {
   "cell_type": "code",
   "execution_count": 8,
   "metadata": {
    "id": "PsHo6aIGkEU5"
   },
   "outputs": [],
   "source": [
    "import cv2"
   ]
  },
  {
   "cell_type": "code",
   "execution_count": 9,
   "metadata": {
    "colab": {
     "base_uri": "https://localhost:8080/",
     "height": 49,
     "referenced_widgets": [
      "9d8f0d3b03084edb93bae525a14d8ae0",
      "4b99db93f0374044bba899ae863ede44",
      "adc8972d6fe44bba906d5390e2226007",
      "ec6acd09f23f44979fd44ece8fd01991",
      "b875b274381c4059af2bab671be87ab2",
      "b8b7d6cf3133441b85539db2695a8591",
      "5dd58389b4a1452bb4ec357d1b22a833",
      "05a189958610498db53582a34fe139eb",
      "72fd35bcf5254670aab97c1e007c5b6f",
      "76e33fbdd3634f0e9ebb4e716c83fc99",
      "f95026a1bca649f2a35bbd5eb2e91d11"
     ]
    },
    "id": "BLqJjfqJgo4l",
    "outputId": "b78e59ed-60e2-42a4-a850-ed058084cf8a"
   },
   "outputs": [
    {
     "data": {
      "application/vnd.jupyter.widget-view+json": {
       "model_id": "2015af1d75d2455586896d31ba63ac7f",
       "version_major": 2,
       "version_minor": 0
      },
      "text/plain": [
       "  0%|          | 0/18000 [00:00<?, ?it/s]"
      ]
     },
     "metadata": {},
     "output_type": "display_data"
    }
   ],
   "source": [
    "X_train=[]\n",
    "y_train=[]\n",
    "# os.chdir('train')\n",
    "# os.chdir(r\"C:\\Users\\Gfg\\Desktop\\geeks\")\n",
    "os.chdir(r\"C:\\Users\\user\\Documents\\Semester Antaraa\\Project\\train\")\n",
    "for i in tqdm(os.listdir()):\n",
    "      img = cv2.imread(i)   \n",
    "      img = cv2.resize(img,(128,128))\n",
    "      X_train.append(img)\n",
    "      y_train.append(i[-6:-4])"
   ]
  },
  {
   "cell_type": "code",
   "execution_count": 10,
   "metadata": {
    "colab": {
     "base_uri": "https://localhost:8080/",
     "height": 95
    },
    "id": "O21fXDqggo8M",
    "outputId": "dfb13693-33f6-4f9b-b64a-ba4d395eb6ec"
   },
   "outputs": [
    {
     "data": {
      "image/png": "[encoded data removed]",
      "text/plain": [
       "<Figure size 720x72 with 10 Axes>"
      ]
     },
     "metadata": {
      "needs_background": "light"
     },
     "output_type": "display_data"
    },
    {
     "name": "stdout",
     "output_type": "stream",
     "text": [
      "label for each of the above image: ['0L', '0L', '2L', '0L', '5L', '5R', '2R', '2R', '3L', '0R']\n"
     ]
    }
   ],
   "source": [
    "# memvisualisasikan 10 sampel pelatihan dengan labelnya.\n",
    "%matplotlib inline\n",
    "import matplotlib.pyplot as plt\n",
    "plt.figure(figsize=(10, 1))\n",
    "for i in range(10):\n",
    "    plt.subplot(1, 10, i+1)\n",
    "    plt.imshow(X_train[i], cmap=\"gray\")\n",
    "    plt.axis('off')\n",
    "plt.show()\n",
    "print('label for each of the above image: %s' % (y_train[0:10]))"
   ]
  },
  {
   "cell_type": "code",
   "execution_count": 11,
   "metadata": {
    "colab": {
     "base_uri": "https://localhost:8080/",
     "height": 49,
     "referenced_widgets": [
      "9f078c44a2b146de8e2e4f2d205b1353",
      "e60264ebf47947c8b47eeaf4dde9c55e",
      "aef4f122f8254a2e8a71b178ae175953",
      "1b545eee92af44e6b359002d8aee3d94",
      "4750f25c2c554a6d8bd08d2729a7f1db",
      "bd219e24fe404e7f835d0a101d566632",
      "87fe71448ff54972baa6745c9a532593",
      "96d9f3a4879a4702ba8044efe97b82e7",
      "91ca318e0357433b80d0404483259940",
      "951a43bcf80f4ab2828e11214189396e",
      "d8188bc16fb344c19ba9e52ca5207f70"
     ]
    },
    "id": "Z4lVJh3vgpBh",
    "outputId": "171cb88e-501b-4cd2-a7c7-1467690ef7c8"
   },
   "outputs": [
    {
     "data": {
      "application/vnd.jupyter.widget-view+json": {
       "model_id": "c16bd67ce1a742ae97cbf5e176882d8d",
       "version_major": 2,
       "version_minor": 0
      },
      "text/plain": [
       "  0%|          | 0/3600 [00:00<?, ?it/s]"
      ]
     },
     "metadata": {},
     "output_type": "display_data"
    }
   ],
   "source": [
    "X_test = []\n",
    "y_test = []\n",
    "os.chdir(r\"C:\\Users\\user\\Documents\\Semester Antaraa\\Project\\test\")\n",
    "for i in tqdm(os.listdir()):\n",
    "      img = cv2.imread(i)   \n",
    "      img = cv2.resize(img,(128,128))\n",
    "      X_test.append(img)\n",
    "      y_test.append(i[-6:-5])"
   ]
  },
  {
   "cell_type": "markdown",
   "metadata": {},
   "source": [
    "#mengubah label menggunakan LabelEncoder \n",
    "#dan kemudian mengubahnya menjadi kategorikal yang memiliki beberapa kelas dan mengubahnya menjadi array"
   ]
  },
  {
   "cell_type": "code",
   "execution_count": 12,
   "metadata": {
    "colab": {
     "base_uri": "https://localhost:8080/"
    },
    "id": "eVqMo0uIg5WE",
    "outputId": "3909066b-c606-43bd-ef0e-d3262490caea"
   },
   "outputs": [
    {
     "name": "stdout",
     "output_type": "stream",
     "text": [
      "Shape of an image in X_train:  (128, 128, 3)\n",
      "Shape of an image in X_test:  (128, 128, 3)\n"
     ]
    }
   ],
   "source": [
    "print (\"Shape of an image in X_train: \", X_train[0].shape)\n",
    "print (\"Shape of an image in X_test: \", X_test[0].shape)"
   ]
  },
  {
   "cell_type": "code",
   "execution_count": 13,
   "metadata": {
    "colab": {
     "base_uri": "https://localhost:8080/"
    },
    "id": "JDNoGE1Lg5c9",
    "outputId": "c93fd823-5975-4de5-dc32-4d7799551fb3"
   },
   "outputs": [
    {
     "name": "stdout",
     "output_type": "stream",
     "text": [
      "Total categories:  12\n",
      "Total categories:  6\n"
     ]
    }
   ],
   "source": [
    "print(\"Total categories: \", len(np.unique(y_train)))\n",
    "print(\"Total categories: \", len(np.unique(y_test)))"
   ]
  },
  {
   "cell_type": "code",
   "execution_count": 14,
   "metadata": {
    "id": "v2ho2oytg5gi"
   },
   "outputs": [],
   "source": [
    "from sklearn import preprocessing\n",
    "le = preprocessing.LabelEncoder()\n",
    "y_train = le.fit_transform(y_train)\n",
    "y_test = le.fit_transform(y_test)\n",
    "\n",
    "y_train = tf.keras.utils.to_categorical(y_train, num_classes=12)\n",
    "y_test = tf.keras.utils.to_categorical(y_test, num_classes=12)\n",
    "\n",
    "y_train = np.array(y_train)\n",
    "X_train = np.array(X_train)\n",
    "\n",
    "y_test = np.array(y_test)\n",
    "X_test = np.array(X_test)"
   ]
  },
  {
   "cell_type": "code",
   "execution_count": 15,
   "metadata": {
    "colab": {
     "base_uri": "https://localhost:8080/",
     "height": 235
    },
    "id": "TWae1eLQhQsu",
    "outputId": "dd9fcc2d-5ae0-4037-ab73-03c817cb9e7c"
   },
   "outputs": [
    {
     "name": "stdout",
     "output_type": "stream",
     "text": [
      "X_train Shape:  (18000, 128, 128, 3)\n",
      "X_test Shape:  (3600, 128, 128, 3)\n",
      "y_train Shape:  (18000, 12)\n",
      "y_test Shape:  (3600, 12)\n"
     ]
    }
   ],
   "source": [
    "print(\"X_train Shape: \", X_train.shape)\n",
    "print(\"X_test Shape: \", X_test.shape)\n",
    "print(\"y_train Shape: \", y_train.shape)\n",
    "print(\"y_test Shape: \", y_test.shape)"
   ]
  },
  {
   "cell_type": "markdown",
   "metadata": {
    "id": "ctO7Po7Vku0Y"
   },
   "source": [
    "# CNN Model"
   ]
  },
  {
   "cell_type": "code",
   "execution_count": 16,
   "metadata": {
    "colab": {
     "base_uri": "https://localhost:8080/",
     "height": 130
    },
    "id": "8selhVUOhQya",
    "outputId": "cf2335d5-53e1-4fb9-d0d8-4e36757c9b1e"
   },
   "outputs": [],
   "source": [
    "m1=Sequential()\n",
    "m1.add(BatchNormalization(input_shape = (128,128,3)))\n",
    "m1.add(Convolution2D(32, (3,3), activation ='relu', input_shape = (128, 128, 3))) \n",
    "m1.add(MaxPooling2D(pool_size=2))\n",
    "m1.add(Convolution2D(filters=6,kernel_size=4,padding='same',activation='relu'))             \n",
    "m1.add(MaxPooling2D(pool_size=2))\n",
    "m1.add(Convolution2D(filters=128,kernel_size=3,padding='same',activation='relu'))\n",
    "m1.add(MaxPooling2D(pool_size=2))\n",
    "m1.add(Convolution2D(filters=128,kernel_size=2,padding='same',activation='relu'))\n",
    "m1.add(MaxPooling2D(pool_size=2))\n",
    "m1.add(Flatten()) \n",
    "m1.add(Dense(units=128,activation = 'relu'))\n",
    "m1.add(Dense(units = 64, activation = 'relu'))\n",
    "m1.add(Dense(units = 32, activation = 'relu'))\n",
    "m1.add(Dense(units = 12, activation = 'softmax'))"
   ]
  },
  {
   "cell_type": "code",
   "execution_count": 17,
   "metadata": {
    "colab": {
     "base_uri": "https://localhost:8080/",
     "height": 165
    },
    "id": "ojdE1xMlhQ4C",
    "outputId": "82066db4-f617-4d63-cb5a-a7eabe9b63da"
   },
   "outputs": [],
   "source": [
    "m1.compile(optimizer='adam', loss = 'categorical_crossentropy',metrics = ['accuracy'])"
   ]
  },
  {
   "cell_type": "code",
   "execution_count": 18,
   "metadata": {
    "colab": {
     "base_uri": "https://localhost:8080/",
     "height": 235
    },
    "id": "_uOzEAs-hQ9R",
    "outputId": "71768d53-edbb-41c7-e2af-31c4baff0b47"
   },
   "outputs": [
    {
     "name": "stdout",
     "output_type": "stream",
     "text": [
      "Epoch 1/30\n",
      "563/563 [==============================] - 530s 937ms/step - loss: 0.1393 - accuracy: 0.9556 - val_loss: 30.7482 - val_accuracy: 0.0833\n",
      "Epoch 2/30\n",
      "563/563 [==============================] - 524s 931ms/step - loss: 2.6593e-05 - accuracy: 1.0000 - val_loss: 34.8748 - val_accuracy: 0.0833\n",
      "Epoch 3/30\n",
      "563/563 [==============================] - 529s 940ms/step - loss: 8.9442e-06 - accuracy: 1.0000 - val_loss: 37.3642 - val_accuracy: 0.0833\n",
      "Epoch 4/30\n",
      "563/563 [==============================] - 527s 936ms/step - loss: 4.3164e-06 - accuracy: 1.0000 - val_loss: 39.2793 - val_accuracy: 0.0833\n",
      "Epoch 5/30\n",
      "563/563 [==============================] - 528s 937ms/step - loss: 2.5469e-06 - accuracy: 1.0000 - val_loss: 40.8927 - val_accuracy: 0.0833\n",
      "Epoch 6/30\n",
      "563/563 [==============================] - 524s 931ms/step - loss: 1.4884e-06 - accuracy: 1.0000 - val_loss: 42.4194 - val_accuracy: 0.0833\n",
      "Epoch 7/30\n",
      "563/563 [==============================] - 524s 931ms/step - loss: 9.9044e-07 - accuracy: 1.0000 - val_loss: 43.7249 - val_accuracy: 0.0833\n",
      "Epoch 8/30\n",
      "563/563 [==============================] - 516s 917ms/step - loss: 6.6827e-07 - accuracy: 1.0000 - val_loss: 44.9597 - val_accuracy: 0.0833\n",
      "Epoch 9/30\n",
      "563/563 [==============================] - 526s 935ms/step - loss: 4.3784e-07 - accuracy: 1.0000 - val_loss: 45.9942 - val_accuracy: 0.0833\n",
      "Epoch 10/30\n",
      "563/563 [==============================] - 522s 927ms/step - loss: 3.0933e-07 - accuracy: 1.0000 - val_loss: 47.0281 - val_accuracy: 0.0833\n",
      "Epoch 11/30\n",
      "563/563 [==============================] - 499s 886ms/step - loss: 2.0543e-07 - accuracy: 1.0000 - val_loss: 48.1627 - val_accuracy: 0.0833\n",
      "Epoch 12/30\n",
      "563/563 [==============================] - 366s 649ms/step - loss: 1.4946e-07 - accuracy: 1.0000 - val_loss: 49.0905 - val_accuracy: 0.0833\n",
      "Epoch 13/30\n",
      "563/563 [==============================] - 285s 506ms/step - loss: 1.1291e-07 - accuracy: 1.0000 - val_loss: 50.0051 - val_accuracy: 0.0833\n",
      "Epoch 14/30\n",
      "563/563 [==============================] - 287s 511ms/step - loss: 7.5691e-08 - accuracy: 1.0000 - val_loss: 51.0424 - val_accuracy: 0.0833\n",
      "Epoch 15/30\n",
      "563/563 [==============================] - 318s 565ms/step - loss: 5.7975e-08 - accuracy: 1.0000 - val_loss: 51.9589 - val_accuracy: 0.0833\n",
      "Epoch 16/30\n",
      "563/563 [==============================] - 302s 536ms/step - loss: 4.5988e-08 - accuracy: 1.0000 - val_loss: 53.1132 - val_accuracy: 0.0833\n",
      "Epoch 17/30\n",
      "563/563 [==============================] - 305s 542ms/step - loss: 3.0802e-08 - accuracy: 1.0000 - val_loss: 53.8273 - val_accuracy: 0.0833\n",
      "Epoch 18/30\n",
      "563/563 [==============================] - 296s 526ms/step - loss: 2.3603e-08 - accuracy: 1.0000 - val_loss: 54.7584 - val_accuracy: 0.0833\n",
      "Epoch 19/30\n",
      "563/563 [==============================] - 293s 521ms/step - loss: 1.7418e-08 - accuracy: 1.0000 - val_loss: 55.4988 - val_accuracy: 0.0833\n",
      "Epoch 20/30\n",
      "563/563 [==============================] - 305s 541ms/step - loss: 1.2709e-08 - accuracy: 1.0000 - val_loss: 56.3391 - val_accuracy: 0.0833\n",
      "Epoch 21/30\n",
      "563/563 [==============================] - 301s 535ms/step - loss: 9.0334e-09 - accuracy: 1.0000 - val_loss: 56.9029 - val_accuracy: 0.0833\n",
      "Epoch 22/30\n",
      "563/563 [==============================] - 298s 530ms/step - loss: 6.7552e-09 - accuracy: 1.0000 - val_loss: 57.6074 - val_accuracy: 0.0833\n",
      "Epoch 23/30\n",
      "563/563 [==============================] - 301s 535ms/step - loss: 5.4505e-09 - accuracy: 1.0000 - val_loss: 58.6737 - val_accuracy: 0.0833\n",
      "Epoch 24/30\n",
      "563/563 [==============================] - 304s 540ms/step - loss: 4.1789e-09 - accuracy: 1.0000 - val_loss: 59.2396 - val_accuracy: 0.0833\n",
      "Epoch 25/30\n",
      "563/563 [==============================] - 302s 537ms/step - loss: 3.4902e-09 - accuracy: 1.0000 - val_loss: 59.9329 - val_accuracy: 0.0833\n",
      "Epoch 26/30\n",
      "563/563 [==============================] - 300s 533ms/step - loss: 2.3643e-09 - accuracy: 1.0000 - val_loss: 60.3164 - val_accuracy: 0.0833\n",
      "Epoch 27/30\n",
      "563/563 [==============================] - 314s 557ms/step - loss: 1.9471e-09 - accuracy: 1.0000 - val_loss: 60.8323 - val_accuracy: 0.0833\n",
      "Epoch 28/30\n",
      "563/563 [==============================] - 296s 526ms/step - loss: 1.5034e-09 - accuracy: 1.0000 - val_loss: 61.0239 - val_accuracy: 0.0833\n",
      "Epoch 29/30\n",
      "563/563 [==============================] - 290s 514ms/step - loss: 1.2914e-09 - accuracy: 1.0000 - val_loss: 61.3671 - val_accuracy: 0.0833\n",
      "Epoch 30/30\n",
      "563/563 [==============================] - 286s 508ms/step - loss: 9.7354e-10 - accuracy: 1.0000 - val_loss: 61.0406 - val_accuracy: 0.0833\n"
     ]
    }
   ],
   "source": [
    "#melatih model cnn\n",
    "model = m1.fit(X_train,y_train,\n",
    "                    epochs=30, \n",
    "                    validation_data=(X_test,y_test),\n",
    "                    verbose = 1,\n",
    "                    initial_epoch=0)"
   ]
  },
  {
   "cell_type": "code",
   "execution_count": 19,
   "metadata": {
    "colab": {
     "base_uri": "https://localhost:8080/",
     "height": 183
    },
    "id": "NSci6D1uhRDG",
    "outputId": "e66fd8df-75de-48d7-82f8-0699f80c759a"
   },
   "outputs": [
    {
     "name": "stdout",
     "output_type": "stream",
     "text": [
      "113/113 [==============================] - 11s 101ms/step - loss: 61.0406 - accuracy: 0.0833\n",
      "[61.040626525878906, 0.0833333358168602]\n"
     ]
    }
   ],
   "source": [
    "loss_and_metrics = m1.evaluate(X_test,y_test)\n",
    "print(loss_and_metrics)"
   ]
  },
  {
   "cell_type": "markdown",
   "metadata": {},
   "source": [
    "melakukan prediksi jumlah jari"
   ]
  },
  {
   "cell_type": "code",
   "execution_count": 20,
   "metadata": {
    "colab": {
     "base_uri": "https://localhost:8080/",
     "height": 200
    },
    "id": "FOky5_6fhe5T",
    "outputId": "c5618468-b3f3-49b3-edf7-19b38adc24ae"
   },
   "outputs": [
    {
     "data": {
      "text/plain": [
       "0"
      ]
     },
     "execution_count": 20,
     "metadata": {},
     "output_type": "execute_result"
    }
   ],
   "source": [
    "predicted_classes = m1.predict(X_train[:,:,:,:])\n",
    "predicted_classes = np.argmax(np.round(predicted_classes),axis=1)\n",
    "predicted_classes[0]"
   ]
  },
  {
   "cell_type": "code",
   "execution_count": 21,
   "metadata": {
    "colab": {
     "base_uri": "https://localhost:8080/",
     "height": 217
    },
    "id": "n67myMgmhe80",
    "outputId": "c6fcc3e2-b231-4082-98eb-93936511d5de"
   },
   "outputs": [
    {
     "data": {
      "text/plain": [
       "11154"
      ]
     },
     "execution_count": 21,
     "metadata": {},
     "output_type": "execute_result"
    }
   ],
   "source": [
    "import numpy as np\n",
    "k=X_train.shape[0]\n",
    "r=np.random.randint(k)\n",
    "r\n"
   ]
  },
  {
   "cell_type": "code",
   "execution_count": 22,
   "metadata": {},
   "outputs": [
    {
     "name": "stdout",
     "output_type": "stream",
     "text": [
      "Prediction: 8\n",
      "\n",
      "Actuals:    [0. 0. 0. 0. 0. 0. 0. 0. 1. 0. 0. 0.]\n"
     ]
    }
   ],
   "source": [
    "print(\"Prediction:\",predicted_classes[r])\n",
    "print(\"\\nActuals:   \",y_train[r])"
   ]
  },
  {
   "cell_type": "code",
   "execution_count": 23,
   "metadata": {
    "colab": {
     "base_uri": "https://localhost:8080/",
     "height": 217
    },
    "id": "lpk1an35hfAz",
    "outputId": "bf25b548-780d-4196-da3a-a313a47c2c47"
   },
   "outputs": [
    {
     "data": {
      "text/plain": [
       "16648"
      ]
     },
     "execution_count": 23,
     "metadata": {},
     "output_type": "execute_result"
    }
   ],
   "source": [
    "k=X_train.shape[0]\n",
    "r=np.random.randint(k)\n",
    "r\n"
   ]
  },
  {
   "cell_type": "code",
   "execution_count": 24,
   "metadata": {
    "id": "wUyhbMHMhfEg"
   },
   "outputs": [
    {
     "name": "stdout",
     "output_type": "stream",
     "text": [
      "Prediction: 3\n",
      "\n",
      "Actuals:    [0. 0. 0. 1. 0. 0. 0. 0. 0. 0. 0. 0.]\n"
     ]
    }
   ],
   "source": [
    "print(\"Prediction:\",predicted_classes[r])\n",
    "print(\"\\nActuals:   \",y_train[r])"
   ]
  }
 ],
 "metadata": {
  "accelerator": "GPU",
  "colab": {
   "name": "DeepLearningProject.ipynb",
   "provenance": []
  },
  "gpuClass": "standard",
  "kernelspec": {
   "display_name": "Python 3",
   "language": "python",
   "name": "python3"
  },
  "language_info": {
   "codemirror_mode": {
    "name": "ipython",
    "version": 3
   },
   "file_extension": ".py",
   "mimetype": "text/x-python",
   "name": "python",
   "nbconvert_exporter": "python",
   "pygments_lexer": "ipython3",
   "version": "3.8.8"
  },
  "widgets": {
   "application/vnd.jupyter.widget-state+json": {
    "05a189958610498db53582a34fe139eb": {
     "model_module": "@jupyter-widgets/base",
     "model_module_version": "1.2.0",
     "model_name": "LayoutModel",
     "state": {
      "_model_module": "@jupyter-widgets/base",
      "_model_module_version": "1.2.0",
      "_model_name": "LayoutModel",
      "_view_count": null,
      "_view_module": "@jupyter-widgets/base",
      "_view_module_version": "1.2.0",
      "_view_name": "LayoutView",
      "align_content": null,
      "align_items": null,
      "align_self": null,
      "border": null,
      "bottom": null,
      "display": null,
      "flex": null,
      "flex_flow": null,
      "grid_area": null,
      "grid_auto_columns": null,
      "grid_auto_flow": null,
      "grid_auto_rows": null,
      "grid_column": null,
      "grid_gap": null,
      "grid_row": null,
      "grid_template_areas": null,
      "grid_template_columns": null,
      "grid_template_rows": null,
      "height": null,
      "justify_content": null,
      "justify_items": null,
      "left": null,
      "margin": null,
      "max_height": null,
      "max_width": null,
      "min_height": null,
      "min_width": null,
      "object_fit": null,
      "object_position": null,
      "order": null,
      "overflow": null,
      "overflow_x": null,
      "overflow_y": null,
      "padding": null,
      "right": null,
      "top": null,
      "visibility": null,
      "width": null
     }
    },
    "1b545eee92af44e6b359002d8aee3d94": {
     "model_module": "@jupyter-widgets/controls",
     "model_module_version": "1.5.0",
     "model_name": "HTMLModel",
     "state": {
      "_dom_classes": [],
      "_model_module": "@jupyter-widgets/controls",
      "_model_module_version": "1.5.0",
      "_model_name": "HTMLModel",
      "_view_count": null,
      "_view_module": "@jupyter-widgets/controls",
      "_view_module_version": "1.5.0",
      "_view_name": "HTMLView",
      "description": "",
      "description_tooltip": null,
      "layout": "IPY_MODEL_951a43bcf80f4ab2828e11214189396e",
      "placeholder": "​",
      "style": "IPY_MODEL_d8188bc16fb344c19ba9e52ca5207f70",
      "value": " 3600/3600 [00:08&lt;00:00, 534.96it/s]"
     }
    },
    "4750f25c2c554a6d8bd08d2729a7f1db": {
     "model_module": "@jupyter-widgets/base",
     "model_module_version": "1.2.0",
     "model_name": "LayoutModel",
     "state": {
      "_model_module": "@jupyter-widgets/base",
      "_model_module_version": "1.2.0",
      "_model_name": "LayoutModel",
      "_view_count": null,
      "_view_module": "@jupyter-widgets/base",
      "_view_module_version": "1.2.0",
      "_view_name": "LayoutView",
      "align_content": null,
      "align_items": null,
      "align_self": null,
      "border": null,
      "bottom": null,
      "display": null,
      "flex": null,
      "flex_flow": null,
      "grid_area": null,
      "grid_auto_columns": null,
      "grid_auto_flow": null,
      "grid_auto_rows": null,
      "grid_column": null,
      "grid_gap": null,
      "grid_row": null,
      "grid_template_areas": null,
      "grid_template_columns": null,
      "grid_template_rows": null,
      "height": null,
      "justify_content": null,
      "justify_items": null,
      "left": null,
      "margin": null,
      "max_height": null,
      "max_width": null,
      "min_height": null,
      "min_width": null,
      "object_fit": null,
      "object_position": null,
      "order": null,
      "overflow": null,
      "overflow_x": null,
      "overflow_y": null,
      "padding": null,
      "right": null,
      "top": null,
      "visibility": null,
      "width": null
     }
    },
    "4b99db93f0374044bba899ae863ede44": {
     "model_module": "@jupyter-widgets/controls",
     "model_module_version": "1.5.0",
     "model_name": "HTMLModel",
     "state": {
      "_dom_classes": [],
      "_model_module": "@jupyter-widgets/controls",
      "_model_module_version": "1.5.0",
      "_model_name": "HTMLModel",
      "_view_count": null,
      "_view_module": "@jupyter-widgets/controls",
      "_view_module_version": "1.5.0",
      "_view_name": "HTMLView",
      "description": "",
      "description_tooltip": null,
      "layout": "IPY_MODEL_b8b7d6cf3133441b85539db2695a8591",
      "placeholder": "​",
      "style": "IPY_MODEL_5dd58389b4a1452bb4ec357d1b22a833",
      "value": "100%"
     }
    },
    "5dd58389b4a1452bb4ec357d1b22a833": {
     "model_module": "@jupyter-widgets/controls",
     "model_module_version": "1.5.0",
     "model_name": "DescriptionStyleModel",
     "state": {
      "_model_module": "@jupyter-widgets/controls",
      "_model_module_version": "1.5.0",
      "_model_name": "DescriptionStyleModel",
      "_view_count": null,
      "_view_module": "@jupyter-widgets/base",
      "_view_module_version": "1.2.0",
      "_view_name": "StyleView",
      "description_width": ""
     }
    },
    "72fd35bcf5254670aab97c1e007c5b6f": {
     "model_module": "@jupyter-widgets/controls",
     "model_module_version": "1.5.0",
     "model_name": "ProgressStyleModel",
     "state": {
      "_model_module": "@jupyter-widgets/controls",
      "_model_module_version": "1.5.0",
      "_model_name": "ProgressStyleModel",
      "_view_count": null,
      "_view_module": "@jupyter-widgets/base",
      "_view_module_version": "1.2.0",
      "_view_name": "StyleView",
      "bar_color": null,
      "description_width": ""
     }
    },
    "76e33fbdd3634f0e9ebb4e716c83fc99": {
     "model_module": "@jupyter-widgets/base",
     "model_module_version": "1.2.0",
     "model_name": "LayoutModel",
     "state": {
      "_model_module": "@jupyter-widgets/base",
      "_model_module_version": "1.2.0",
      "_model_name": "LayoutModel",
      "_view_count": null,
      "_view_module": "@jupyter-widgets/base",
      "_view_module_version": "1.2.0",
      "_view_name": "LayoutView",
      "align_content": null,
      "align_items": null,
      "align_self": null,
      "border": null,
      "bottom": null,
      "display": null,
      "flex": null,
      "flex_flow": null,
      "grid_area": null,
      "grid_auto_columns": null,
      "grid_auto_flow": null,
      "grid_auto_rows": null,
      "grid_column": null,
      "grid_gap": null,
      "grid_row": null,
      "grid_template_areas": null,
      "grid_template_columns": null,
      "grid_template_rows": null,
      "height": null,
      "justify_content": null,
      "justify_items": null,
      "left": null,
      "margin": null,
      "max_height": null,
      "max_width": null,
      "min_height": null,
      "min_width": null,
      "object_fit": null,
      "object_position": null,
      "order": null,
      "overflow": null,
      "overflow_x": null,
      "overflow_y": null,
      "padding": null,
      "right": null,
      "top": null,
      "visibility": null,
      "width": null
     }
    },
    "87fe71448ff54972baa6745c9a532593": {
     "model_module": "@jupyter-widgets/controls",
     "model_module_version": "1.5.0",
     "model_name": "DescriptionStyleModel",
     "state": {
      "_model_module": "@jupyter-widgets/controls",
      "_model_module_version": "1.5.0",
      "_model_name": "DescriptionStyleModel",
      "_view_count": null,
      "_view_module": "@jupyter-widgets/base",
      "_view_module_version": "1.2.0",
      "_view_name": "StyleView",
      "description_width": ""
     }
    },
    "91ca318e0357433b80d0404483259940": {
     "model_module": "@jupyter-widgets/controls",
     "model_module_version": "1.5.0",
     "model_name": "ProgressStyleModel",
     "state": {
      "_model_module": "@jupyter-widgets/controls",
      "_model_module_version": "1.5.0",
      "_model_name": "ProgressStyleModel",
      "_view_count": null,
      "_view_module": "@jupyter-widgets/base",
      "_view_module_version": "1.2.0",
      "_view_name": "StyleView",
      "bar_color": null,
      "description_width": ""
     }
    },
    "951a43bcf80f4ab2828e11214189396e": {
     "model_module": "@jupyter-widgets/base",
     "model_module_version": "1.2.0",
     "model_name": "LayoutModel",
     "state": {
      "_model_module": "@jupyter-widgets/base",
      "_model_module_version": "1.2.0",
      "_model_name": "LayoutModel",
      "_view_count": null,
      "_view_module": "@jupyter-widgets/base",
      "_view_module_version": "1.2.0",
      "_view_name": "LayoutView",
      "align_content": null,
      "align_items": null,
      "align_self": null,
      "border": null,
      "bottom": null,
      "display": null,
      "flex": null,
      "flex_flow": null,
      "grid_area": null,
      "grid_auto_columns": null,
      "grid_auto_flow": null,
      "grid_auto_rows": null,
      "grid_column": null,
      "grid_gap": null,
      "grid_row": null,
      "grid_template_areas": null,
      "grid_template_columns": null,
      "grid_template_rows": null,
      "height": null,
      "justify_content": null,
      "justify_items": null,
      "left": null,
      "margin": null,
      "max_height": null,
      "max_width": null,
      "min_height": null,
      "min_width": null,
      "object_fit": null,
      "object_position": null,
      "order": null,
      "overflow": null,
      "overflow_x": null,
      "overflow_y": null,
      "padding": null,
      "right": null,
      "top": null,
      "visibility": null,
      "width": null
     }
    },
    "96d9f3a4879a4702ba8044efe97b82e7": {
     "model_module": "@jupyter-widgets/base",
     "model_module_version": "1.2.0",
     "model_name": "LayoutModel",
     "state": {
      "_model_module": "@jupyter-widgets/base",
      "_model_module_version": "1.2.0",
      "_model_name": "LayoutModel",
      "_view_count": null,
      "_view_module": "@jupyter-widgets/base",
      "_view_module_version": "1.2.0",
      "_view_name": "LayoutView",
      "align_content": null,
      "align_items": null,
      "align_self": null,
      "border": null,
      "bottom": null,
      "display": null,
      "flex": null,
      "flex_flow": null,
      "grid_area": null,
      "grid_auto_columns": null,
      "grid_auto_flow": null,
      "grid_auto_rows": null,
      "grid_column": null,
      "grid_gap": null,
      "grid_row": null,
      "grid_template_areas": null,
      "grid_template_columns": null,
      "grid_template_rows": null,
      "height": null,
      "justify_content": null,
      "justify_items": null,
      "left": null,
      "margin": null,
      "max_height": null,
      "max_width": null,
      "min_height": null,
      "min_width": null,
      "object_fit": null,
      "object_position": null,
      "order": null,
      "overflow": null,
      "overflow_x": null,
      "overflow_y": null,
      "padding": null,
      "right": null,
      "top": null,
      "visibility": null,
      "width": null
     }
    },
    "9d8f0d3b03084edb93bae525a14d8ae0": {
     "model_module": "@jupyter-widgets/controls",
     "model_module_version": "1.5.0",
     "model_name": "HBoxModel",
     "state": {
      "_dom_classes": [],
      "_model_module": "@jupyter-widgets/controls",
      "_model_module_version": "1.5.0",
      "_model_name": "HBoxModel",
      "_view_count": null,
      "_view_module": "@jupyter-widgets/controls",
      "_view_module_version": "1.5.0",
      "_view_name": "HBoxView",
      "box_style": "",
      "children": [
       "IPY_MODEL_4b99db93f0374044bba899ae863ede44",
       "IPY_MODEL_adc8972d6fe44bba906d5390e2226007",
       "IPY_MODEL_ec6acd09f23f44979fd44ece8fd01991"
      ],
      "layout": "IPY_MODEL_b875b274381c4059af2bab671be87ab2"
     }
    },
    "9f078c44a2b146de8e2e4f2d205b1353": {
     "model_module": "@jupyter-widgets/controls",
     "model_module_version": "1.5.0",
     "model_name": "HBoxModel",
     "state": {
      "_dom_classes": [],
      "_model_module": "@jupyter-widgets/controls",
      "_model_module_version": "1.5.0",
      "_model_name": "HBoxModel",
      "_view_count": null,
      "_view_module": "@jupyter-widgets/controls",
      "_view_module_version": "1.5.0",
      "_view_name": "HBoxView",
      "box_style": "",
      "children": [
       "IPY_MODEL_e60264ebf47947c8b47eeaf4dde9c55e",
       "IPY_MODEL_aef4f122f8254a2e8a71b178ae175953",
       "IPY_MODEL_1b545eee92af44e6b359002d8aee3d94"
      ],
      "layout": "IPY_MODEL_4750f25c2c554a6d8bd08d2729a7f1db"
     }
    },
    "adc8972d6fe44bba906d5390e2226007": {
     "model_module": "@jupyter-widgets/controls",
     "model_module_version": "1.5.0",
     "model_name": "FloatProgressModel",
     "state": {
      "_dom_classes": [],
      "_model_module": "@jupyter-widgets/controls",
      "_model_module_version": "1.5.0",
      "_model_name": "FloatProgressModel",
      "_view_count": null,
      "_view_module": "@jupyter-widgets/controls",
      "_view_module_version": "1.5.0",
      "_view_name": "ProgressView",
      "bar_style": "success",
      "description": "",
      "description_tooltip": null,
      "layout": "IPY_MODEL_05a189958610498db53582a34fe139eb",
      "max": 18010,
      "min": 0,
      "orientation": "horizontal",
      "style": "IPY_MODEL_72fd35bcf5254670aab97c1e007c5b6f",
      "value": 18010
     }
    },
    "aef4f122f8254a2e8a71b178ae175953": {
     "model_module": "@jupyter-widgets/controls",
     "model_module_version": "1.5.0",
     "model_name": "FloatProgressModel",
     "state": {
      "_dom_classes": [],
      "_model_module": "@jupyter-widgets/controls",
      "_model_module_version": "1.5.0",
      "_model_name": "FloatProgressModel",
      "_view_count": null,
      "_view_module": "@jupyter-widgets/controls",
      "_view_module_version": "1.5.0",
      "_view_name": "ProgressView",
      "bar_style": "success",
      "description": "",
      "description_tooltip": null,
      "layout": "IPY_MODEL_96d9f3a4879a4702ba8044efe97b82e7",
      "max": 3600,
      "min": 0,
      "orientation": "horizontal",
      "style": "IPY_MODEL_91ca318e0357433b80d0404483259940",
      "value": 3600
     }
    },
    "b875b274381c4059af2bab671be87ab2": {
     "model_module": "@jupyter-widgets/base",
     "model_module_version": "1.2.0",
     "model_name": "LayoutModel",
     "state": {
      "_model_module": "@jupyter-widgets/base",
      "_model_module_version": "1.2.0",
      "_model_name": "LayoutModel",
      "_view_count": null,
      "_view_module": "@jupyter-widgets/base",
      "_view_module_version": "1.2.0",
      "_view_name": "LayoutView",
      "align_content": null,
      "align_items": null,
      "align_self": null,
      "border": null,
      "bottom": null,
      "display": null,
      "flex": null,
      "flex_flow": null,
      "grid_area": null,
      "grid_auto_columns": null,
      "grid_auto_flow": null,
      "grid_auto_rows": null,
      "grid_column": null,
      "grid_gap": null,
      "grid_row": null,
      "grid_template_areas": null,
      "grid_template_columns": null,
      "grid_template_rows": null,
      "height": null,
      "justify_content": null,
      "justify_items": null,
      "left": null,
      "margin": null,
      "max_height": null,
      "max_width": null,
      "min_height": null,
      "min_width": null,
      "object_fit": null,
      "object_position": null,
      "order": null,
      "overflow": null,
      "overflow_x": null,
      "overflow_y": null,
      "padding": null,
      "right": null,
      "top": null,
      "visibility": null,
      "width": null
     }
    },
    "b8b7d6cf3133441b85539db2695a8591": {
     "model_module": "@jupyter-widgets/base",
     "model_module_version": "1.2.0",
     "model_name": "LayoutModel",
     "state": {
      "_model_module": "@jupyter-widgets/base",
      "_model_module_version": "1.2.0",
      "_model_name": "LayoutModel",
      "_view_count": null,
      "_view_module": "@jupyter-widgets/base",
      "_view_module_version": "1.2.0",
      "_view_name": "LayoutView",
      "align_content": null,
      "align_items": null,
      "align_self": null,
      "border": null,
      "bottom": null,
      "display": null,
      "flex": null,
      "flex_flow": null,
      "grid_area": null,
      "grid_auto_columns": null,
      "grid_auto_flow": null,
      "grid_auto_rows": null,
      "grid_column": null,
      "grid_gap": null,
      "grid_row": null,
      "grid_template_areas": null,
      "grid_template_columns": null,
      "grid_template_rows": null,
      "height": null,
      "justify_content": null,
      "justify_items": null,
      "left": null,
      "margin": null,
      "max_height": null,
      "max_width": null,
      "min_height": null,
      "min_width": null,
      "object_fit": null,
      "object_position": null,
      "order": null,
      "overflow": null,
      "overflow_x": null,
      "overflow_y": null,
      "padding": null,
      "right": null,
      "top": null,
      "visibility": null,
      "width": null
     }
    },
    "bd219e24fe404e7f835d0a101d566632": {
     "model_module": "@jupyter-widgets/base",
     "model_module_version": "1.2.0",
     "model_name": "LayoutModel",
     "state": {
      "_model_module": "@jupyter-widgets/base",
      "_model_module_version": "1.2.0",
      "_model_name": "LayoutModel",
      "_view_count": null,
      "_view_module": "@jupyter-widgets/base",
      "_view_module_version": "1.2.0",
      "_view_name": "LayoutView",
      "align_content": null,
      "align_items": null,
      "align_self": null,
      "border": null,
      "bottom": null,
      "display": null,
      "flex": null,
      "flex_flow": null,
      "grid_area": null,
      "grid_auto_columns": null,
      "grid_auto_flow": null,
      "grid_auto_rows": null,
      "grid_column": null,
      "grid_gap": null,
      "grid_row": null,
      "grid_template_areas": null,
      "grid_template_columns": null,
      "grid_template_rows": null,
      "height": null,
      "justify_content": null,
      "justify_items": null,
      "left": null,
      "margin": null,
      "max_height": null,
      "max_width": null,
      "min_height": null,
      "min_width": null,
      "object_fit": null,
      "object_position": null,
      "order": null,
      "overflow": null,
      "overflow_x": null,
      "overflow_y": null,
      "padding": null,
      "right": null,
      "top": null,
      "visibility": null,
      "width": null
     }
    },
    "d8188bc16fb344c19ba9e52ca5207f70": {
     "model_module": "@jupyter-widgets/controls",
     "model_module_version": "1.5.0",
     "model_name": "DescriptionStyleModel",
     "state": {
      "_model_module": "@jupyter-widgets/controls",
      "_model_module_version": "1.5.0",
      "_model_name": "DescriptionStyleModel",
      "_view_count": null,
      "_view_module": "@jupyter-widgets/base",
      "_view_module_version": "1.2.0",
      "_view_name": "StyleView",
      "description_width": ""
     }
    },
    "e60264ebf47947c8b47eeaf4dde9c55e": {
     "model_module": "@jupyter-widgets/controls",
     "model_module_version": "1.5.0",
     "model_name": "HTMLModel",
     "state": {
      "_dom_classes": [],
      "_model_module": "@jupyter-widgets/controls",
      "_model_module_version": "1.5.0",
      "_model_name": "HTMLModel",
      "_view_count": null,
      "_view_module": "@jupyter-widgets/controls",
      "_view_module_version": "1.5.0",
      "_view_name": "HTMLView",
      "description": "",
      "description_tooltip": null,
      "layout": "IPY_MODEL_bd219e24fe404e7f835d0a101d566632",
      "placeholder": "​",
      "style": "IPY_MODEL_87fe71448ff54972baa6745c9a532593",
      "value": "100%"
     }
    },
    "ec6acd09f23f44979fd44ece8fd01991": {
     "model_module": "@jupyter-widgets/controls",
     "model_module_version": "1.5.0",
     "model_name": "HTMLModel",
     "state": {
      "_dom_classes": [],
      "_model_module": "@jupyter-widgets/controls",
      "_model_module_version": "1.5.0",
      "_model_name": "HTMLModel",
      "_view_count": null,
      "_view_module": "@jupyter-widgets/controls",
      "_view_module_version": "1.5.0",
      "_view_name": "HTMLView",
      "description": "",
      "description_tooltip": null,
      "layout": "IPY_MODEL_76e33fbdd3634f0e9ebb4e716c83fc99",
      "placeholder": "​",
      "style": "IPY_MODEL_f95026a1bca649f2a35bbd5eb2e91d11",
      "value": " 18010/18010 [00:39&lt;00:00, 577.30it/s]"
     }
    },
    "f95026a1bca649f2a35bbd5eb2e91d11": {
     "model_module": "@jupyter-widgets/controls",
     "model_module_version": "1.5.0",
     "model_name": "DescriptionStyleModel",
     "state": {
      "_model_module": "@jupyter-widgets/controls",
      "_model_module_version": "1.5.0",
      "_model_name": "DescriptionStyleModel",
      "_view_count": null,
      "_view_module": "@jupyter-widgets/base",
      "_view_module_version": "1.2.0",
      "_view_name": "StyleView",
      "description_width": ""
     }
    }
   }
  }
 },
 "nbformat": 4,
 "nbformat_minor": 1
}
